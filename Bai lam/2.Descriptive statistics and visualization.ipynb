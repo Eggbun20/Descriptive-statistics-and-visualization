{
 "cells": [
  {
   "cell_type": "code",
   "execution_count": 1,
   "id": "e2c45fd7",
   "metadata": {},
   "outputs": [
    {
     "name": "stdout",
     "output_type": "stream",
     "text": [
      "Done\n"
     ]
    }
   ],
   "source": [
    "import pandas as pd\n",
    "import numpy as np\n",
    "import matplotlib.pyplot as plt\n",
    "import seaborn as sns\n",
    "\n",
    "print('Done')"
   ]
  },
  {
   "cell_type": "markdown",
   "id": "770deb24",
   "metadata": {},
   "source": [
    "# Ban đầu file data.xlsx đưa lên Jupyter Notebook không phải UTF8 nên phải chuyển sang file data1.csv "
   ]
  },
  {
   "cell_type": "code",
   "execution_count": 2,
   "id": "a81d2c4c",
   "metadata": {},
   "outputs": [
    {
     "data": {
      "text/html": [
       "<div>\n",
       "<style scoped>\n",
       "    .dataframe tbody tr th:only-of-type {\n",
       "        vertical-align: middle;\n",
       "    }\n",
       "\n",
       "    .dataframe tbody tr th {\n",
       "        vertical-align: top;\n",
       "    }\n",
       "\n",
       "    .dataframe thead th {\n",
       "        text-align: right;\n",
       "    }\n",
       "</style>\n",
       "<table border=\"1\" class=\"dataframe\">\n",
       "  <thead>\n",
       "    <tr style=\"text-align: right;\">\n",
       "      <th></th>\n",
       "      <th>State</th>\n",
       "      <th>Home Value</th>\n",
       "      <th>HH Inc</th>\n",
       "      <th>Per Cap Inc</th>\n",
       "      <th>Pct Owner Occ</th>\n",
       "    </tr>\n",
       "  </thead>\n",
       "  <tbody>\n",
       "    <tr>\n",
       "      <th>0</th>\n",
       "      <td>Alabama</td>\n",
       "      <td>117600</td>\n",
       "      <td>42081</td>\n",
       "      <td>22984</td>\n",
       "      <td>71.1</td>\n",
       "    </tr>\n",
       "    <tr>\n",
       "      <th>1</th>\n",
       "      <td>Alaska</td>\n",
       "      <td>229100</td>\n",
       "      <td>66521</td>\n",
       "      <td>30726</td>\n",
       "      <td>64.7</td>\n",
       "    </tr>\n",
       "    <tr>\n",
       "      <th>2</th>\n",
       "      <td>Arizona</td>\n",
       "      <td>215000</td>\n",
       "      <td>50448</td>\n",
       "      <td>25680</td>\n",
       "      <td>67.4</td>\n",
       "    </tr>\n",
       "    <tr>\n",
       "      <th>3</th>\n",
       "      <td>Arkansas</td>\n",
       "      <td>102300</td>\n",
       "      <td>39267</td>\n",
       "      <td>21274</td>\n",
       "      <td>67.7</td>\n",
       "    </tr>\n",
       "    <tr>\n",
       "      <th>4</th>\n",
       "      <td>California</td>\n",
       "      <td>458500</td>\n",
       "      <td>60883</td>\n",
       "      <td>29188</td>\n",
       "      <td>57.4</td>\n",
       "    </tr>\n",
       "  </tbody>\n",
       "</table>\n",
       "</div>"
      ],
      "text/plain": [
       "        State  Home Value  HH Inc  Per Cap Inc  Pct Owner Occ\n",
       "0     Alabama      117600   42081        22984           71.1\n",
       "1      Alaska      229100   66521        30726           64.7\n",
       "2     Arizona      215000   50448        25680           67.4\n",
       "3    Arkansas      102300   39267        21274           67.7\n",
       "4  California      458500   60883        29188           57.4"
      ]
     },
     "execution_count": 2,
     "metadata": {},
     "output_type": "execute_result"
    }
   ],
   "source": [
    "df = pd.read_csv('/Users/humi.mochi/Downloads/De bai final test/2.Descriptive statistics and visualization/Bai lam/data1.csv')\n",
    "df.head()"
   ]
  },
  {
   "cell_type": "code",
   "execution_count": 3,
   "id": "df25aadc",
   "metadata": {},
   "outputs": [
    {
     "data": {
      "text/html": [
       "<div>\n",
       "<style scoped>\n",
       "    .dataframe tbody tr th:only-of-type {\n",
       "        vertical-align: middle;\n",
       "    }\n",
       "\n",
       "    .dataframe tbody tr th {\n",
       "        vertical-align: top;\n",
       "    }\n",
       "\n",
       "    .dataframe thead th {\n",
       "        text-align: right;\n",
       "    }\n",
       "</style>\n",
       "<table border=\"1\" class=\"dataframe\">\n",
       "  <thead>\n",
       "    <tr style=\"text-align: right;\">\n",
       "      <th></th>\n",
       "      <th>Home Value</th>\n",
       "      <th>HH Inc</th>\n",
       "      <th>Per Cap Inc</th>\n",
       "      <th>Pct Owner Occ</th>\n",
       "    </tr>\n",
       "  </thead>\n",
       "  <tbody>\n",
       "    <tr>\n",
       "      <th>count</th>\n",
       "      <td>51.000000</td>\n",
       "      <td>51.000000</td>\n",
       "      <td>51.000000</td>\n",
       "      <td>51.000000</td>\n",
       "    </tr>\n",
       "    <tr>\n",
       "      <th>mean</th>\n",
       "      <td>204107.843137</td>\n",
       "      <td>51776.392157</td>\n",
       "      <td>26983.196078</td>\n",
       "      <td>67.868627</td>\n",
       "    </tr>\n",
       "    <tr>\n",
       "      <th>std</th>\n",
       "      <td>98746.566205</td>\n",
       "      <td>8357.417659</td>\n",
       "      <td>4329.312929</td>\n",
       "      <td>5.376857</td>\n",
       "    </tr>\n",
       "    <tr>\n",
       "      <th>min</th>\n",
       "      <td>94500.000000</td>\n",
       "      <td>37881.000000</td>\n",
       "      <td>19977.000000</td>\n",
       "      <td>43.500000</td>\n",
       "    </tr>\n",
       "    <tr>\n",
       "      <th>25%</th>\n",
       "      <td>126950.000000</td>\n",
       "      <td>46315.500000</td>\n",
       "      <td>23947.000000</td>\n",
       "      <td>67.050000</td>\n",
       "    </tr>\n",
       "    <tr>\n",
       "      <th>50%</th>\n",
       "      <td>173300.000000</td>\n",
       "      <td>49424.000000</td>\n",
       "      <td>25803.000000</td>\n",
       "      <td>69.200000</td>\n",
       "    </tr>\n",
       "    <tr>\n",
       "      <th>75%</th>\n",
       "      <td>252900.000000</td>\n",
       "      <td>56849.500000</td>\n",
       "      <td>29097.500000</td>\n",
       "      <td>70.900000</td>\n",
       "    </tr>\n",
       "    <tr>\n",
       "      <th>max</th>\n",
       "      <td>537400.000000</td>\n",
       "      <td>70647.000000</td>\n",
       "      <td>42078.000000</td>\n",
       "      <td>74.600000</td>\n",
       "    </tr>\n",
       "  </tbody>\n",
       "</table>\n",
       "</div>"
      ],
      "text/plain": [
       "          Home Value        HH Inc   Per Cap Inc  Pct Owner Occ\n",
       "count      51.000000     51.000000     51.000000      51.000000\n",
       "mean   204107.843137  51776.392157  26983.196078      67.868627\n",
       "std     98746.566205   8357.417659   4329.312929       5.376857\n",
       "min     94500.000000  37881.000000  19977.000000      43.500000\n",
       "25%    126950.000000  46315.500000  23947.000000      67.050000\n",
       "50%    173300.000000  49424.000000  25803.000000      69.200000\n",
       "75%    252900.000000  56849.500000  29097.500000      70.900000\n",
       "max    537400.000000  70647.000000  42078.000000      74.600000"
      ]
     },
     "execution_count": 3,
     "metadata": {},
     "output_type": "execute_result"
    }
   ],
   "source": [
    "df.describe()\n",
    "#df.info()"
   ]
  },
  {
   "cell_type": "markdown",
   "id": "8208ea5f",
   "metadata": {},
   "source": [
    "# Thêm range vào hàm describe()"
   ]
  },
  {
   "cell_type": "code",
   "execution_count": 4,
   "id": "d35dea18",
   "metadata": {},
   "outputs": [
    {
     "name": "stdout",
     "output_type": "stream",
     "text": [
      "          Home Value        HH Inc   Per Cap Inc  Pct Owner Occ\n",
      "count      51.000000     51.000000     51.000000      51.000000\n",
      "mean   204107.843137  51776.392157  26983.196078      67.868627\n",
      "std     98746.566205   8357.417659   4329.312929       5.376857\n",
      "min     94500.000000  37881.000000  19977.000000      43.500000\n",
      "25%    126950.000000  46315.500000  23947.000000      67.050000\n",
      "50%    173300.000000  49424.000000  25803.000000      69.200000\n",
      "75%    252900.000000  56849.500000  29097.500000      70.900000\n",
      "max    537400.000000  70647.000000  42078.000000      74.600000\n",
      "range  442900.000000  32766.000000  22101.000000      31.100000\n"
     ]
    }
   ],
   "source": [
    "def describe_new(df):\n",
    "    df1 = df.describe()\n",
    "    df1.loc[\"range\"] = df1.loc['max'] - df1.loc['min']\n",
    "    return df1\n",
    "\n",
    "print (describe_new(df))"
   ]
  },
  {
   "cell_type": "markdown",
   "id": "711a89b1",
   "metadata": {},
   "source": [
    "# Tạo bảng mean, median, range và standard deviation của mỗi biến.\n",
    "Giá trị mean, median, range và standard deviation hầu hết đều có trong hàm describe().\n",
    "Ghi chú: \n",
    "- mean = mean\n",
    "- 50% = median\n",
    "- range = max - min\n",
    "- std = standard deviation"
   ]
  },
  {
   "cell_type": "code",
   "execution_count": 5,
   "id": "21ba6fac",
   "metadata": {},
   "outputs": [
    {
     "data": {
      "text/html": [
       "<div>\n",
       "<style scoped>\n",
       "    .dataframe tbody tr th:only-of-type {\n",
       "        vertical-align: middle;\n",
       "    }\n",
       "\n",
       "    .dataframe tbody tr th {\n",
       "        vertical-align: top;\n",
       "    }\n",
       "\n",
       "    .dataframe thead th {\n",
       "        text-align: right;\n",
       "    }\n",
       "</style>\n",
       "<table border=\"1\" class=\"dataframe\">\n",
       "  <thead>\n",
       "    <tr style=\"text-align: right;\">\n",
       "      <th></th>\n",
       "      <th>Home Value</th>\n",
       "      <th>HH Inc</th>\n",
       "      <th>Per Cap Inc</th>\n",
       "      <th>Pct Owner Occ</th>\n",
       "    </tr>\n",
       "  </thead>\n",
       "  <tbody>\n",
       "    <tr>\n",
       "      <th>mean</th>\n",
       "      <td>204107.843137</td>\n",
       "      <td>51776.392157</td>\n",
       "      <td>26983.196078</td>\n",
       "      <td>67.868627</td>\n",
       "    </tr>\n",
       "    <tr>\n",
       "      <th>50%</th>\n",
       "      <td>173300.000000</td>\n",
       "      <td>49424.000000</td>\n",
       "      <td>25803.000000</td>\n",
       "      <td>69.200000</td>\n",
       "    </tr>\n",
       "    <tr>\n",
       "      <th>range</th>\n",
       "      <td>442900.000000</td>\n",
       "      <td>32766.000000</td>\n",
       "      <td>22101.000000</td>\n",
       "      <td>31.100000</td>\n",
       "    </tr>\n",
       "    <tr>\n",
       "      <th>std</th>\n",
       "      <td>98746.566205</td>\n",
       "      <td>8357.417659</td>\n",
       "      <td>4329.312929</td>\n",
       "      <td>5.376857</td>\n",
       "    </tr>\n",
       "  </tbody>\n",
       "</table>\n",
       "</div>"
      ],
      "text/plain": [
       "          Home Value        HH Inc   Per Cap Inc  Pct Owner Occ\n",
       "mean   204107.843137  51776.392157  26983.196078      67.868627\n",
       "50%    173300.000000  49424.000000  25803.000000      69.200000\n",
       "range  442900.000000  32766.000000  22101.000000      31.100000\n",
       "std     98746.566205   8357.417659   4329.312929       5.376857"
      ]
     },
     "execution_count": 5,
     "metadata": {},
     "output_type": "execute_result"
    }
   ],
   "source": [
    "describe_new(df).loc[['mean', '50%', 'range','std']]"
   ]
  },
  {
   "cell_type": "markdown",
   "id": "570ef56b",
   "metadata": {},
   "source": [
    "# Mức độ tập trung và sự phân phối dữ liệu của từng biến"
   ]
  },
  {
   "cell_type": "markdown",
   "id": "e8082ed2",
   "metadata": {},
   "source": [
    "### Mức độ tập trung sẽ sử dụng 2 tham số Mean và Median (50%)\n",
    "Mean (Số trung bình):\n",
    "- Home Value: Giá nhà trung bình ở mức 204.107,84\n",
    "- HH Inc: Thu nhập hộ gia đình trung bình ở mức 51.776,39\n",
    "- Per Cap Inc: Thu nhập đầu người trung bình ở mức 26.983,20\n",
    "- Pct Owner OCc: Phần trăm số nhà có chủ sở hữu trung bình ở mức 67,87%\n",
    "\n",
    "Median (Số trung vị):\n",
    "- Home Value: Giá nhà chung nằm ở mức giữa là 173.300\n",
    "- HH Inc: Thu nhập hộ gia đình chung nằm ở mức giữa là 49.424\n",
    "- Per Cap Inc: Thu nhập đầu người bình quân chung nằm ở mức giữa là 25.803\n",
    "- Pct Owner OCc: Phần trăm số nhà có chủ sở hữu chung nằm ở mức giữa là 69,2%"
   ]
  },
  {
   "cell_type": "markdown",
   "id": "babc17d7",
   "metadata": {},
   "source": [
    "### Sự phân phối của dữ liệu sẽ sử dụng 2 tham số Range và Standard deviation (Std)\n",
    "Range (Khoảng biến thiên):\n",
    "- Home Value: Phạm vi gía nhà trải dài ở khoảng 442.900\n",
    "- HH Inc: Phạm vi thu nhập hộ gia đình trải dài ở khoảng 32.766\n",
    "- Per Cap Inc: Phạm vi thu nhập đầu người trải dài ở khoảng 22.101\n",
    "- Pct Owner OCc: Phần trăm số nhà có chủ sở hữu trung bình ở mức 31.1%\n",
    "\n",
    "Std (Độ lệch chuẩn): Dùng để phản ánh mức độ phân tán của một biến số so với số trung bình.\n",
    "- Home Value: 98.746.57\t\t\n",
    "- HH Inc: 8.357.42\n",
    "- Per Cap Inc: 4.329.31\n",
    "- Pct Owner OCc: 5.4"
   ]
  },
  {
   "cell_type": "markdown",
   "id": "8e7ed0e3",
   "metadata": {},
   "source": [
    "# Tạo 1 frequency histogram cho mỗi biến để xác định hình dạng của phần phối dữ liệu."
   ]
  },
  {
   "cell_type": "markdown",
   "id": "d1babc77",
   "metadata": {},
   "source": [
    "##### Giá nhà ở khoảng 120.000 - 140.000 có tần suất xuất hiện nhiều nhất"
   ]
  },
  {
   "cell_type": "code",
   "execution_count": 40,
   "id": "ddbebd75",
   "metadata": {
    "scrolled": false
   },
   "outputs": [
    {
     "data": {
      "image/png": "[encoded data removed]",
      "text/plain": [
       "<Figure size 720x432 with 1 Axes>"
      ]
     },
     "metadata": {
      "needs_background": "light"
     },
     "output_type": "display_data"
    }
   ],
   "source": [
    "df.hist(column='Home Value', bins=20, grid=True, figsize=(10,6), color='green')\n",
    "plt.gca().set(title='Frequency Histogram of Home Value', xlabel='Home Value', ylabel='Frequency');"
   ]
  },
  {
   "cell_type": "markdown",
   "id": "a5ee968c",
   "metadata": {},
   "source": [
    "##### Thu nhập hộ gia đình ở khoảng 48.000 - 51.000 có tần suất xuất hiện nhiều nhất"
   ]
  },
  {
   "cell_type": "code",
   "execution_count": 35,
   "id": "7bfee2b4",
   "metadata": {
    "scrolled": true
   },
   "outputs": [
    {
     "data": {
      "image/png": "[encoded data removed]",
      "text/plain": [
       "<Figure size 720x432 with 1 Axes>"
      ]
     },
     "metadata": {
      "needs_background": "light"
     },
     "output_type": "display_data"
    }
   ],
   "source": [
    "df.hist(column='HH Inc', bins=15, grid=True, figsize=(10,6), color='red')\n",
    "plt.gca().set(title='Frequency Histogram of HH Inc', xlabel='HH Inc', ylabel='Frequency');"
   ]
  },
  {
   "cell_type": "markdown",
   "id": "7cf8f789",
   "metadata": {},
   "source": [
    "##### Thu nhập bình quân đầu người ở khoảng 24.000 đến hơn 26.000 có tần suất xuất hiện nhiều nhất"
   ]
  },
  {
   "cell_type": "code",
   "execution_count": 8,
   "id": "983750dd",
   "metadata": {},
   "outputs": [
    {
     "data": {
      "image/png": "[encoded data removed]",
      "text/plain": [
       "<Figure size 720x432 with 1 Axes>"
      ]
     },
     "metadata": {
      "needs_background": "light"
     },
     "output_type": "display_data"
    }
   ],
   "source": [
    "df.hist(column='Per Cap Inc', bins=15, grid=True, figsize=(10,6), color='blue')\n",
    "plt.gca().set(title='Frequency Histogram of Per Cap Inc', xlabel='Per Cap Inc', ylabel='Frequency');"
   ]
  },
  {
   "cell_type": "markdown",
   "id": "6661e581",
   "metadata": {},
   "source": [
    "##### Tỷ lệ phần trăm số nhà có chủ sở hữu ở khoảng 69-71% có tần suất xuất hiện nhiều nhất"
   ]
  },
  {
   "cell_type": "code",
   "execution_count": 9,
   "id": "ba5d1295",
   "metadata": {},
   "outputs": [
    {
     "data": {
      "image/png": "[encoded data removed]",
      "text/plain": [
       "<Figure size 720x432 with 1 Axes>"
      ]
     },
     "metadata": {
      "needs_background": "light"
     },
     "output_type": "display_data"
    }
   ],
   "source": [
    "df.hist(column='Pct Owner Occ', bins=15, grid=True, figsize=(10,6), color='purple')\n",
    "plt.gca().set(title='Frequency Histogram of Pct Owner Occ', xlabel='Pct Owner Occ', ylabel='Frequency');"
   ]
  },
  {
   "cell_type": "markdown",
   "id": "0c093eb2",
   "metadata": {},
   "source": [
    "# Tạo biểu đồ boxplots của từng biến"
   ]
  },
  {
   "cell_type": "markdown",
   "id": "85476c7c",
   "metadata": {},
   "source": [
    "##### Home Value (Giá nhà):\n",
    "- Min : Dưới 100.000\n",
    "- Max : Hơn 500.000\n",
    "- Ít nhất một nửa Giá nhà từ 160.000 trở lên"
   ]
  },
  {
   "cell_type": "code",
   "execution_count": 10,
   "id": "97aeca3f",
   "metadata": {},
   "outputs": [
    {
     "data": {
      "image/png": "[encoded data removed]",
      "text/plain": [
       "<Figure size 432x288 with 1 Axes>"
      ]
     },
     "metadata": {
      "needs_background": "light"
     },
     "output_type": "display_data"
    }
   ],
   "source": [
    "df.boxplot(column = 'Home Value')\n",
    "\n",
    "plt.title('Boxplot of Home Value')\n",
    "plt.ylabel('Value')\n",
    "\n",
    "plt.show()"
   ]
  },
  {
   "cell_type": "markdown",
   "id": "ede11e67",
   "metadata": {},
   "source": [
    "##### HH Inc (Thu nhập hộ gia đình):\n",
    "- Min : Dưới 40.000\n",
    "- Max : Trên 70.000\n",
    "- Ít nhất một nửa Thu nhập hộ gia đình từ 49.000 trở lên"
   ]
  },
  {
   "cell_type": "code",
   "execution_count": 11,
   "id": "687205bc",
   "metadata": {},
   "outputs": [
    {
     "data": {
      "image/png": "[encoded data removed]",
      "text/plain": [
       "<Figure size 432x288 with 1 Axes>"
      ]
     },
     "metadata": {
      "needs_background": "light"
     },
     "output_type": "display_data"
    }
   ],
   "source": [
    "df.boxplot(column = 'HH Inc')\n",
    "\n",
    "plt.title('Boxplot of HH Inc')\n",
    "plt.ylabel('Value')\n",
    "\n",
    "plt.show()"
   ]
  },
  {
   "cell_type": "markdown",
   "id": "43bbd8aa",
   "metadata": {},
   "source": [
    "##### Per Cap Inc (Thu nhập trên đầu người):\n",
    "- Min : Dưới 20.000\n",
    "- Max : Trên 42.000\n",
    "- Ít nhất một nửa Thu nhập bình quân từ 26.000 trở lên"
   ]
  },
  {
   "cell_type": "code",
   "execution_count": 12,
   "id": "2e7b355f",
   "metadata": {},
   "outputs": [
    {
     "data": {
      "image/png": "[encoded data removed]",
      "text/plain": [
       "<Figure size 432x288 with 1 Axes>"
      ]
     },
     "metadata": {
      "needs_background": "light"
     },
     "output_type": "display_data"
    }
   ],
   "source": [
    "df.boxplot(column = 'Per Cap Inc')\n",
    "\n",
    "plt.title('Boxplot of Per Cap Inc')\n",
    "plt.ylabel('Value')\n",
    "\n",
    "plt.show()"
   ]
  },
  {
   "cell_type": "markdown",
   "id": "9eb4b111",
   "metadata": {},
   "source": [
    "##### Pct Owner Occ (Phần trăm số nhà có chủ sở hữu):\n",
    "- Min : Dưới 45%\n",
    "- Max : Dưới 75%\n",
    "- Ít nhất một nửa Phần trăm số nhà có chủ sở hữu từ 69% trở lên"
   ]
  },
  {
   "cell_type": "code",
   "execution_count": 13,
   "id": "70acfb03",
   "metadata": {},
   "outputs": [
    {
     "data": {
      "image/png": "[encoded data removed]",
      "text/plain": [
       "<Figure size 432x288 with 1 Axes>"
      ]
     },
     "metadata": {
      "needs_background": "light"
     },
     "output_type": "display_data"
    }
   ],
   "source": [
    "df.boxplot(column = 'Pct Owner Occ')\n",
    "\n",
    "plt.title('Boxplot of Pct Owner Occ')\n",
    "plt.ylabel('Value')\n",
    "\n",
    "plt.show()"
   ]
  },
  {
   "cell_type": "markdown",
   "id": "8fb73f7e",
   "metadata": {},
   "source": [
    "# Tìm Outliers của từng biến"
   ]
  },
  {
   "cell_type": "code",
   "execution_count": 69,
   "id": "3e571145",
   "metadata": {},
   "outputs": [
    {
     "name": "stdout",
     "output_type": "stream",
     "text": [
      "Outliers của Home Value:  \n",
      " 4     458500\n",
      "8     443300\n",
      "11    537400\n",
      "Name: Home Value, dtype: int64\n"
     ]
    }
   ],
   "source": [
    "x = df['Home Value']\n",
    "\n",
    "def find_outliers_IQR(x):\n",
    "\n",
    "   q1 = x.quantile(0.25)\n",
    "\n",
    "   q3 = x.quantile(0.75)\n",
    "\n",
    "   IQR = q3 - q1\n",
    "\n",
    "   outliers = x[((x<(q1-1.5*IQR)) | (x>(q3+1.5*IQR)))]\n",
    "\n",
    "   return outliers\n",
    "\n",
    "print('Outliers của Home Value: ', \"\\n\", find_outliers_IQR(x))"
   ]
  },
  {
   "cell_type": "code",
   "execution_count": 68,
   "id": "4cd3332c",
   "metadata": {},
   "outputs": [
    {
     "name": "stdout",
     "output_type": "stream",
     "text": [
      "Outliers của HH Inc:  \n",
      " Series([], Name: HH Inc, dtype: int64)\n"
     ]
    }
   ],
   "source": [
    "x = df['HH Inc']\n",
    "\n",
    "def find_outliers_IQR(x):\n",
    "\n",
    "   q1 = x.quantile(0.25)\n",
    "\n",
    "   q3 = x.quantile(0.75)\n",
    "\n",
    "   IQR = q3 - q1\n",
    "\n",
    "   outliers = x[((x<(q1-1.5*IQR)) | (x>(q3+1.5*IQR)))]\n",
    "\n",
    "   return outliers\n",
    "\n",
    "print('Outliers của HH Inc: ', \"\\n\", find_outliers_IQR(x))"
   ]
  },
  {
   "cell_type": "code",
   "execution_count": 67,
   "id": "9c314518",
   "metadata": {},
   "outputs": [
    {
     "name": "stdout",
     "output_type": "stream",
     "text": [
      "Outliers của Per Cap Inc:  \n",
      " 8    42078\n",
      "Name: Per Cap Inc, dtype: int64\n"
     ]
    }
   ],
   "source": [
    "x = df['Per Cap Inc']\n",
    "\n",
    "def find_outliers_IQR(x):\n",
    "\n",
    "   q1 = x.quantile(0.25)\n",
    "\n",
    "   q3 = x.quantile(0.75)\n",
    "\n",
    "   IQR = q3 - q1\n",
    "\n",
    "   outliers = x[((x<(q1-1.5*IQR)) | (x>(q3+1.5*IQR)))]\n",
    "\n",
    "   return outliers\n",
    "\n",
    "print('Outliers của Per Cap Inc: ',\"\\n\", find_outliers_IQR(x))"
   ]
  },
  {
   "cell_type": "code",
   "execution_count": 66,
   "id": "d58e294d",
   "metadata": {},
   "outputs": [
    {
     "name": "stdout",
     "output_type": "stream",
     "text": [
      "Outliers của Pct Owner Occ: \n",
      " 4     57.4\n",
      "8     43.5\n",
      "11    59.3\n",
      "28    60.1\n",
      "32    55.2\n",
      "Name: Pct Owner Occ, dtype: float64\n"
     ]
    }
   ],
   "source": [
    "x = df['Pct Owner Occ']\n",
    "\n",
    "def find_outliers_IQR(x):\n",
    "\n",
    "   q1 = x.quantile(0.25)\n",
    "\n",
    "   q3 = x.quantile(0.75)\n",
    "\n",
    "   IQR = q3 - q1\n",
    "\n",
    "   outliers = x[((x<(q1-1.5*IQR)) | (x>(q3+1.5*IQR)))]\n",
    "\n",
    "   return outliers\n",
    "\n",
    "print('Outliers của Pct Owner Occ:', \"\\n\" ,find_outliers_IQR(x))"
   ]
  },
  {
   "cell_type": "code",
   "execution_count": 70,
   "id": "8f836dc5",
   "metadata": {},
   "outputs": [
    {
     "data": {
      "text/html": [
       "<div>\n",
       "<style scoped>\n",
       "    .dataframe tbody tr th:only-of-type {\n",
       "        vertical-align: middle;\n",
       "    }\n",
       "\n",
       "    .dataframe tbody tr th {\n",
       "        vertical-align: top;\n",
       "    }\n",
       "\n",
       "    .dataframe thead th {\n",
       "        text-align: right;\n",
       "    }\n",
       "</style>\n",
       "<table border=\"1\" class=\"dataframe\">\n",
       "  <thead>\n",
       "    <tr style=\"text-align: right;\">\n",
       "      <th></th>\n",
       "      <th>Home Value</th>\n",
       "      <th>HH Inc</th>\n",
       "      <th>Per Cap Inc</th>\n",
       "      <th>Pct Owner Occ</th>\n",
       "    </tr>\n",
       "  </thead>\n",
       "  <tbody>\n",
       "    <tr>\n",
       "      <th>0</th>\n",
       "      <td>NaN</td>\n",
       "      <td>NaN</td>\n",
       "      <td>NaN</td>\n",
       "      <td>NaN</td>\n",
       "    </tr>\n",
       "    <tr>\n",
       "      <th>1</th>\n",
       "      <td>NaN</td>\n",
       "      <td>NaN</td>\n",
       "      <td>NaN</td>\n",
       "      <td>NaN</td>\n",
       "    </tr>\n",
       "    <tr>\n",
       "      <th>2</th>\n",
       "      <td>NaN</td>\n",
       "      <td>NaN</td>\n",
       "      <td>NaN</td>\n",
       "      <td>NaN</td>\n",
       "    </tr>\n",
       "    <tr>\n",
       "      <th>3</th>\n",
       "      <td>NaN</td>\n",
       "      <td>NaN</td>\n",
       "      <td>NaN</td>\n",
       "      <td>NaN</td>\n",
       "    </tr>\n",
       "    <tr>\n",
       "      <th>4</th>\n",
       "      <td>458500.0</td>\n",
       "      <td>NaN</td>\n",
       "      <td>NaN</td>\n",
       "      <td>57.4</td>\n",
       "    </tr>\n",
       "    <tr>\n",
       "      <th>5</th>\n",
       "      <td>NaN</td>\n",
       "      <td>NaN</td>\n",
       "      <td>NaN</td>\n",
       "      <td>NaN</td>\n",
       "    </tr>\n",
       "    <tr>\n",
       "      <th>6</th>\n",
       "      <td>NaN</td>\n",
       "      <td>NaN</td>\n",
       "      <td>NaN</td>\n",
       "      <td>NaN</td>\n",
       "    </tr>\n",
       "    <tr>\n",
       "      <th>7</th>\n",
       "      <td>NaN</td>\n",
       "      <td>NaN</td>\n",
       "      <td>NaN</td>\n",
       "      <td>NaN</td>\n",
       "    </tr>\n",
       "    <tr>\n",
       "      <th>8</th>\n",
       "      <td>443300.0</td>\n",
       "      <td>NaN</td>\n",
       "      <td>42078.0</td>\n",
       "      <td>43.5</td>\n",
       "    </tr>\n",
       "    <tr>\n",
       "      <th>9</th>\n",
       "      <td>NaN</td>\n",
       "      <td>NaN</td>\n",
       "      <td>NaN</td>\n",
       "      <td>NaN</td>\n",
       "    </tr>\n",
       "    <tr>\n",
       "      <th>10</th>\n",
       "      <td>NaN</td>\n",
       "      <td>NaN</td>\n",
       "      <td>NaN</td>\n",
       "      <td>NaN</td>\n",
       "    </tr>\n",
       "    <tr>\n",
       "      <th>11</th>\n",
       "      <td>537400.0</td>\n",
       "      <td>NaN</td>\n",
       "      <td>NaN</td>\n",
       "      <td>59.3</td>\n",
       "    </tr>\n",
       "    <tr>\n",
       "      <th>12</th>\n",
       "      <td>NaN</td>\n",
       "      <td>NaN</td>\n",
       "      <td>NaN</td>\n",
       "      <td>NaN</td>\n",
       "    </tr>\n",
       "    <tr>\n",
       "      <th>13</th>\n",
       "      <td>NaN</td>\n",
       "      <td>NaN</td>\n",
       "      <td>NaN</td>\n",
       "      <td>NaN</td>\n",
       "    </tr>\n",
       "    <tr>\n",
       "      <th>14</th>\n",
       "      <td>NaN</td>\n",
       "      <td>NaN</td>\n",
       "      <td>NaN</td>\n",
       "      <td>NaN</td>\n",
       "    </tr>\n",
       "    <tr>\n",
       "      <th>15</th>\n",
       "      <td>NaN</td>\n",
       "      <td>NaN</td>\n",
       "      <td>NaN</td>\n",
       "      <td>NaN</td>\n",
       "    </tr>\n",
       "    <tr>\n",
       "      <th>16</th>\n",
       "      <td>NaN</td>\n",
       "      <td>NaN</td>\n",
       "      <td>NaN</td>\n",
       "      <td>NaN</td>\n",
       "    </tr>\n",
       "    <tr>\n",
       "      <th>17</th>\n",
       "      <td>NaN</td>\n",
       "      <td>NaN</td>\n",
       "      <td>NaN</td>\n",
       "      <td>NaN</td>\n",
       "    </tr>\n",
       "    <tr>\n",
       "      <th>18</th>\n",
       "      <td>NaN</td>\n",
       "      <td>NaN</td>\n",
       "      <td>NaN</td>\n",
       "      <td>NaN</td>\n",
       "    </tr>\n",
       "    <tr>\n",
       "      <th>19</th>\n",
       "      <td>NaN</td>\n",
       "      <td>NaN</td>\n",
       "      <td>NaN</td>\n",
       "      <td>NaN</td>\n",
       "    </tr>\n",
       "    <tr>\n",
       "      <th>20</th>\n",
       "      <td>NaN</td>\n",
       "      <td>NaN</td>\n",
       "      <td>NaN</td>\n",
       "      <td>NaN</td>\n",
       "    </tr>\n",
       "    <tr>\n",
       "      <th>21</th>\n",
       "      <td>NaN</td>\n",
       "      <td>NaN</td>\n",
       "      <td>NaN</td>\n",
       "      <td>NaN</td>\n",
       "    </tr>\n",
       "    <tr>\n",
       "      <th>22</th>\n",
       "      <td>NaN</td>\n",
       "      <td>NaN</td>\n",
       "      <td>NaN</td>\n",
       "      <td>NaN</td>\n",
       "    </tr>\n",
       "    <tr>\n",
       "      <th>23</th>\n",
       "      <td>NaN</td>\n",
       "      <td>NaN</td>\n",
       "      <td>NaN</td>\n",
       "      <td>NaN</td>\n",
       "    </tr>\n",
       "    <tr>\n",
       "      <th>24</th>\n",
       "      <td>NaN</td>\n",
       "      <td>NaN</td>\n",
       "      <td>NaN</td>\n",
       "      <td>NaN</td>\n",
       "    </tr>\n",
       "    <tr>\n",
       "      <th>25</th>\n",
       "      <td>NaN</td>\n",
       "      <td>NaN</td>\n",
       "      <td>NaN</td>\n",
       "      <td>NaN</td>\n",
       "    </tr>\n",
       "    <tr>\n",
       "      <th>26</th>\n",
       "      <td>NaN</td>\n",
       "      <td>NaN</td>\n",
       "      <td>NaN</td>\n",
       "      <td>NaN</td>\n",
       "    </tr>\n",
       "    <tr>\n",
       "      <th>27</th>\n",
       "      <td>NaN</td>\n",
       "      <td>NaN</td>\n",
       "      <td>NaN</td>\n",
       "      <td>NaN</td>\n",
       "    </tr>\n",
       "    <tr>\n",
       "      <th>28</th>\n",
       "      <td>NaN</td>\n",
       "      <td>NaN</td>\n",
       "      <td>NaN</td>\n",
       "      <td>60.1</td>\n",
       "    </tr>\n",
       "    <tr>\n",
       "      <th>29</th>\n",
       "      <td>NaN</td>\n",
       "      <td>NaN</td>\n",
       "      <td>NaN</td>\n",
       "      <td>NaN</td>\n",
       "    </tr>\n",
       "    <tr>\n",
       "      <th>30</th>\n",
       "      <td>NaN</td>\n",
       "      <td>NaN</td>\n",
       "      <td>NaN</td>\n",
       "      <td>NaN</td>\n",
       "    </tr>\n",
       "    <tr>\n",
       "      <th>31</th>\n",
       "      <td>NaN</td>\n",
       "      <td>NaN</td>\n",
       "      <td>NaN</td>\n",
       "      <td>NaN</td>\n",
       "    </tr>\n",
       "    <tr>\n",
       "      <th>32</th>\n",
       "      <td>NaN</td>\n",
       "      <td>NaN</td>\n",
       "      <td>NaN</td>\n",
       "      <td>55.2</td>\n",
       "    </tr>\n",
       "    <tr>\n",
       "      <th>33</th>\n",
       "      <td>NaN</td>\n",
       "      <td>NaN</td>\n",
       "      <td>NaN</td>\n",
       "      <td>NaN</td>\n",
       "    </tr>\n",
       "    <tr>\n",
       "      <th>34</th>\n",
       "      <td>NaN</td>\n",
       "      <td>NaN</td>\n",
       "      <td>NaN</td>\n",
       "      <td>NaN</td>\n",
       "    </tr>\n",
       "    <tr>\n",
       "      <th>35</th>\n",
       "      <td>NaN</td>\n",
       "      <td>NaN</td>\n",
       "      <td>NaN</td>\n",
       "      <td>NaN</td>\n",
       "    </tr>\n",
       "    <tr>\n",
       "      <th>36</th>\n",
       "      <td>NaN</td>\n",
       "      <td>NaN</td>\n",
       "      <td>NaN</td>\n",
       "      <td>NaN</td>\n",
       "    </tr>\n",
       "    <tr>\n",
       "      <th>37</th>\n",
       "      <td>NaN</td>\n",
       "      <td>NaN</td>\n",
       "      <td>NaN</td>\n",
       "      <td>NaN</td>\n",
       "    </tr>\n",
       "    <tr>\n",
       "      <th>38</th>\n",
       "      <td>NaN</td>\n",
       "      <td>NaN</td>\n",
       "      <td>NaN</td>\n",
       "      <td>NaN</td>\n",
       "    </tr>\n",
       "    <tr>\n",
       "      <th>39</th>\n",
       "      <td>NaN</td>\n",
       "      <td>NaN</td>\n",
       "      <td>NaN</td>\n",
       "      <td>NaN</td>\n",
       "    </tr>\n",
       "    <tr>\n",
       "      <th>40</th>\n",
       "      <td>NaN</td>\n",
       "      <td>NaN</td>\n",
       "      <td>NaN</td>\n",
       "      <td>NaN</td>\n",
       "    </tr>\n",
       "    <tr>\n",
       "      <th>41</th>\n",
       "      <td>NaN</td>\n",
       "      <td>NaN</td>\n",
       "      <td>NaN</td>\n",
       "      <td>NaN</td>\n",
       "    </tr>\n",
       "    <tr>\n",
       "      <th>42</th>\n",
       "      <td>NaN</td>\n",
       "      <td>NaN</td>\n",
       "      <td>NaN</td>\n",
       "      <td>NaN</td>\n",
       "    </tr>\n",
       "    <tr>\n",
       "      <th>43</th>\n",
       "      <td>NaN</td>\n",
       "      <td>NaN</td>\n",
       "      <td>NaN</td>\n",
       "      <td>NaN</td>\n",
       "    </tr>\n",
       "    <tr>\n",
       "      <th>44</th>\n",
       "      <td>NaN</td>\n",
       "      <td>NaN</td>\n",
       "      <td>NaN</td>\n",
       "      <td>NaN</td>\n",
       "    </tr>\n",
       "    <tr>\n",
       "      <th>45</th>\n",
       "      <td>NaN</td>\n",
       "      <td>NaN</td>\n",
       "      <td>NaN</td>\n",
       "      <td>NaN</td>\n",
       "    </tr>\n",
       "    <tr>\n",
       "      <th>46</th>\n",
       "      <td>NaN</td>\n",
       "      <td>NaN</td>\n",
       "      <td>NaN</td>\n",
       "      <td>NaN</td>\n",
       "    </tr>\n",
       "    <tr>\n",
       "      <th>47</th>\n",
       "      <td>NaN</td>\n",
       "      <td>NaN</td>\n",
       "      <td>NaN</td>\n",
       "      <td>NaN</td>\n",
       "    </tr>\n",
       "    <tr>\n",
       "      <th>48</th>\n",
       "      <td>NaN</td>\n",
       "      <td>NaN</td>\n",
       "      <td>NaN</td>\n",
       "      <td>NaN</td>\n",
       "    </tr>\n",
       "    <tr>\n",
       "      <th>49</th>\n",
       "      <td>NaN</td>\n",
       "      <td>NaN</td>\n",
       "      <td>NaN</td>\n",
       "      <td>NaN</td>\n",
       "    </tr>\n",
       "    <tr>\n",
       "      <th>50</th>\n",
       "      <td>NaN</td>\n",
       "      <td>NaN</td>\n",
       "      <td>NaN</td>\n",
       "      <td>NaN</td>\n",
       "    </tr>\n",
       "  </tbody>\n",
       "</table>\n",
       "</div>"
      ],
      "text/plain": [
       "    Home Value  HH Inc  Per Cap Inc  Pct Owner Occ\n",
       "0          NaN     NaN          NaN            NaN\n",
       "1          NaN     NaN          NaN            NaN\n",
       "2          NaN     NaN          NaN            NaN\n",
       "3          NaN     NaN          NaN            NaN\n",
       "4     458500.0     NaN          NaN           57.4\n",
       "5          NaN     NaN          NaN            NaN\n",
       "6          NaN     NaN          NaN            NaN\n",
       "7          NaN     NaN          NaN            NaN\n",
       "8     443300.0     NaN      42078.0           43.5\n",
       "9          NaN     NaN          NaN            NaN\n",
       "10         NaN     NaN          NaN            NaN\n",
       "11    537400.0     NaN          NaN           59.3\n",
       "12         NaN     NaN          NaN            NaN\n",
       "13         NaN     NaN          NaN            NaN\n",
       "14         NaN     NaN          NaN            NaN\n",
       "15         NaN     NaN          NaN            NaN\n",
       "16         NaN     NaN          NaN            NaN\n",
       "17         NaN     NaN          NaN            NaN\n",
       "18         NaN     NaN          NaN            NaN\n",
       "19         NaN     NaN          NaN            NaN\n",
       "20         NaN     NaN          NaN            NaN\n",
       "21         NaN     NaN          NaN            NaN\n",
       "22         NaN     NaN          NaN            NaN\n",
       "23         NaN     NaN          NaN            NaN\n",
       "24         NaN     NaN          NaN            NaN\n",
       "25         NaN     NaN          NaN            NaN\n",
       "26         NaN     NaN          NaN            NaN\n",
       "27         NaN     NaN          NaN            NaN\n",
       "28         NaN     NaN          NaN           60.1\n",
       "29         NaN     NaN          NaN            NaN\n",
       "30         NaN     NaN          NaN            NaN\n",
       "31         NaN     NaN          NaN            NaN\n",
       "32         NaN     NaN          NaN           55.2\n",
       "33         NaN     NaN          NaN            NaN\n",
       "34         NaN     NaN          NaN            NaN\n",
       "35         NaN     NaN          NaN            NaN\n",
       "36         NaN     NaN          NaN            NaN\n",
       "37         NaN     NaN          NaN            NaN\n",
       "38         NaN     NaN          NaN            NaN\n",
       "39         NaN     NaN          NaN            NaN\n",
       "40         NaN     NaN          NaN            NaN\n",
       "41         NaN     NaN          NaN            NaN\n",
       "42         NaN     NaN          NaN            NaN\n",
       "43         NaN     NaN          NaN            NaN\n",
       "44         NaN     NaN          NaN            NaN\n",
       "45         NaN     NaN          NaN            NaN\n",
       "46         NaN     NaN          NaN            NaN\n",
       "47         NaN     NaN          NaN            NaN\n",
       "48         NaN     NaN          NaN            NaN\n",
       "49         NaN     NaN          NaN            NaN\n",
       "50         NaN     NaN          NaN            NaN"
      ]
     },
     "execution_count": 70,
     "metadata": {},
     "output_type": "execute_result"
    }
   ],
   "source": [
    "outliers = find_outliers_IQR(df[['Home Value','HH Inc','Per Cap Inc','Pct Owner Occ']])\n",
    "\n",
    "outliers"
   ]
  },
  {
   "cell_type": "markdown",
   "id": "f90c7d80",
   "metadata": {},
   "source": [
    "# Tạo biểu đồ điểm (scatterplots) cho mỗi biến trong tương quan với 1 biến khác"
   ]
  },
  {
   "cell_type": "markdown",
   "id": "387a46f4",
   "metadata": {},
   "source": [
    "### Home Value và HH Inc:\n",
    "Tuyến tính - Dương"
   ]
  },
  {
   "cell_type": "code",
   "execution_count": 14,
   "id": "b3075d46",
   "metadata": {},
   "outputs": [
    {
     "data": {
      "text/plain": [
       "Text(0.5, 1.0, 'Scatter of Home Value and HH Inc')"
      ]
     },
     "execution_count": 14,
     "metadata": {},
     "output_type": "execute_result"
    },
    {
     "data": {
      "image/png": "[encoded data removed]",
      "text/plain": [
       "<Figure size 1152x576 with 1 Axes>"
      ]
     },
     "metadata": {
      "needs_background": "light"
     },
     "output_type": "display_data"
    }
   ],
   "source": [
    "x = df['Home Value'].values\n",
    "y = df['HH Inc'].values\n",
    "\n",
    "plt.figure(figsize=(16, 8))\n",
    "plt.scatter(x, y, color='green', )\n",
    "plt.xlabel('Home Value', fontsize=16)\n",
    "plt.ylabel('HH Inc', fontsize=16)\n",
    "plt.title(\"Scatter of Home Value and HH Inc\", fontsize=18)"
   ]
  },
  {
   "cell_type": "markdown",
   "id": "8504d2fc",
   "metadata": {},
   "source": [
    "### HH Inc và Per Cap Inc:\n",
    "Tuyến tính - Dương"
   ]
  },
  {
   "cell_type": "code",
   "execution_count": 15,
   "id": "bb67d28d",
   "metadata": {},
   "outputs": [
    {
     "data": {
      "text/plain": [
       "Text(0.5, 1.0, 'Scatter of HH Inc and Per Cap Inc')"
      ]
     },
     "execution_count": 15,
     "metadata": {},
     "output_type": "execute_result"
    },
    {
     "data": {
      "image/png": "[encoded data removed]",
      "text/plain": [
       "<Figure size 1152x576 with 1 Axes>"
      ]
     },
     "metadata": {
      "needs_background": "light"
     },
     "output_type": "display_data"
    }
   ],
   "source": [
    "x = df['HH Inc'].values\n",
    "y = df['Per Cap Inc'].values\n",
    "\n",
    "plt.figure(figsize=(16, 8))\n",
    "plt.scatter(x, y, color='green', )\n",
    "plt.xlabel('HH Inc', fontsize=16)\n",
    "plt.ylabel('Per Cap Inc', fontsize=16)\n",
    "plt.title(\"Scatter of HH Inc and Per Cap Inc\", fontsize=18)"
   ]
  },
  {
   "cell_type": "markdown",
   "id": "b1d74ac1",
   "metadata": {},
   "source": [
    "### Per Cap Inc và Pct Owner Occ:\n",
    "Phi tuyến tính - Âm"
   ]
  },
  {
   "cell_type": "code",
   "execution_count": 16,
   "id": "fc91b5cd",
   "metadata": {},
   "outputs": [
    {
     "data": {
      "text/plain": [
       "Text(0.5, 1.0, 'Scatter of Per Cap Inc and Pct Owner Occ')"
      ]
     },
     "execution_count": 16,
     "metadata": {},
     "output_type": "execute_result"
    },
    {
     "data": {
      "image/png": "[encoded data removed]",
      "text/plain": [
       "<Figure size 1152x576 with 1 Axes>"
      ]
     },
     "metadata": {
      "needs_background": "light"
     },
     "output_type": "display_data"
    }
   ],
   "source": [
    "x = df['Per Cap Inc'].values\n",
    "y = df['Pct Owner Occ'].values\n",
    "\n",
    "plt.figure(figsize=(16, 8))\n",
    "plt.scatter(x, y, color='green', )\n",
    "plt.xlabel('Per Cap Inc', fontsize=16)\n",
    "plt.ylabel('Pct Owner Occ', fontsize=16)\n",
    "plt.title(\"Scatter of Per Cap Inc and Pct Owner Occ\", fontsize=18)"
   ]
  },
  {
   "cell_type": "markdown",
   "id": "d6bb929d",
   "metadata": {},
   "source": [
    "### Pct Owner Occ và Home Value:\n",
    "Tuyến tính - Âm"
   ]
  },
  {
   "cell_type": "code",
   "execution_count": 17,
   "id": "cea3fc98",
   "metadata": {},
   "outputs": [
    {
     "data": {
      "text/plain": [
       "Text(0.5, 1.0, 'Scatter of Pct Owner Occ and Home Value')"
      ]
     },
     "execution_count": 17,
     "metadata": {},
     "output_type": "execute_result"
    },
    {
     "data": {
      "image/png": "[encoded data removed]",
      "text/plain": [
       "<Figure size 1152x576 with 1 Axes>"
      ]
     },
     "metadata": {
      "needs_background": "light"
     },
     "output_type": "display_data"
    }
   ],
   "source": [
    "x = df['Pct Owner Occ'].values\n",
    "y = df['Home Value'].values\n",
    "\n",
    "plt.figure(figsize=(16, 8))\n",
    "plt.scatter(x, y, color='green', )\n",
    "plt.xlabel('Pct Owner Occ', fontsize=16)\n",
    "plt.ylabel('Home Value', fontsize=16)\n",
    "plt.title(\"Scatter of Pct Owner Occ and Home Value\", fontsize=18)"
   ]
  },
  {
   "cell_type": "markdown",
   "id": "8afb9df4",
   "metadata": {},
   "source": [
    "### Home Value và Per Cap Inc:\n",
    "Tuyến tính - Dương"
   ]
  },
  {
   "cell_type": "code",
   "execution_count": 18,
   "id": "6da48b5e",
   "metadata": {},
   "outputs": [
    {
     "data": {
      "text/plain": [
       "Text(0.5, 1.0, 'Scatter of Home Value and Per Cap Inc')"
      ]
     },
     "execution_count": 18,
     "metadata": {},
     "output_type": "execute_result"
    },
    {
     "data": {
      "image/png": "[encoded data removed]",
      "text/plain": [
       "<Figure size 1152x576 with 1 Axes>"
      ]
     },
     "metadata": {
      "needs_background": "light"
     },
     "output_type": "display_data"
    }
   ],
   "source": [
    "x = df['Home Value'].values\n",
    "y = df['Per Cap Inc'].values\n",
    "\n",
    "plt.figure(figsize=(16, 8))\n",
    "plt.scatter(x, y, color='green', )\n",
    "plt.xlabel('Home Value', fontsize=16)\n",
    "plt.ylabel('Per Cap Inc', fontsize=16)\n",
    "plt.title(\"Scatter of Home Value and Per Cap Inc\", fontsize=18)"
   ]
  },
  {
   "cell_type": "markdown",
   "id": "4015ba0e",
   "metadata": {},
   "source": [
    "### HH Inc và Pct Owner Occ:\n",
    "Phi tuyến tính"
   ]
  },
  {
   "cell_type": "code",
   "execution_count": 19,
   "id": "bab0254c",
   "metadata": {
    "scrolled": true
   },
   "outputs": [
    {
     "data": {
      "text/plain": [
       "Text(0.5, 1.0, 'Scatter of HH Inc and Pct Owner Occ ')"
      ]
     },
     "execution_count": 19,
     "metadata": {},
     "output_type": "execute_result"
    },
    {
     "data": {
      "image/png": "[encoded data removed]",
      "text/plain": [
       "<Figure size 1152x576 with 1 Axes>"
      ]
     },
     "metadata": {
      "needs_background": "light"
     },
     "output_type": "display_data"
    }
   ],
   "source": [
    "x = df['HH Inc'].values\n",
    "y = df['Pct Owner Occ'].values\n",
    "\n",
    "plt.figure(figsize=(16, 8))\n",
    "plt.scatter(x, y, color='green', )\n",
    "plt.xlabel('HH Inc', fontsize=16)\n",
    "plt.ylabel('Pct Owner Occ', fontsize=16)\n",
    "plt.title(\"Scatter of HH Inc and Pct Owner Occ \", fontsize=18)"
   ]
  },
  {
   "cell_type": "markdown",
   "id": "b8eecd97",
   "metadata": {},
   "source": [
    "# Tính toán correlation coefficient của mỗi biến với các biến còn lại"
   ]
  },
  {
   "cell_type": "code",
   "execution_count": 20,
   "id": "fc7f91c3",
   "metadata": {},
   "outputs": [
    {
     "name": "stdout",
     "output_type": "stream",
     "text": [
      "Hệ số tương quan giữa hai biến Home Value và HH Inc:  0.03017814909475326\n"
     ]
    }
   ],
   "source": [
    "x = df['Home Value']\n",
    "y = df['HH Inc']\n",
    "\n",
    "def Cor_HV_HHI(x,y):\n",
    "    n = len(x)\n",
    "    prod = []\n",
    "    for xi,yi in zip(x,y):\n",
    "        prod.append(xi*yi)\n",
    "    sum_prod_x_y = sum(prod)\n",
    "    sum_x = sum(x)\n",
    "    sum_y = sum(y)\n",
    "    squared_sum_x = sum_x**2\n",
    "    squared_sum_y = sum_y**2\n",
    "    \n",
    "    x_square = []\n",
    "    for xi in x:\n",
    "        x_square.append(xi**2)\n",
    "    x_square_sum = sum(x_square)\n",
    "    \n",
    "    y_square = []\n",
    "    for yi in x:\n",
    "        y_square.append(yi**2)\n",
    "    y_square_sum = sum(y_square)\n",
    "    \n",
    "    numerator = n*sum_prod_x_y - sum_x*sum_y\n",
    "    denominator_term1 = n*x_square_sum - squared_sum_x\n",
    "    denominator_term2 = n*y_square_sum - squared_sum_y\n",
    "    denominator = (denominator_term1*denominator_term2)**0.5\n",
    "    correlation = numerator/denominator\n",
    "    \n",
    "    return correlation\n",
    "\n",
    "print('Hệ số tương quan giữa hai biến Home Value và HH Inc: ',Cor_HV_HHI(x,y))"
   ]
  },
  {
   "cell_type": "code",
   "execution_count": 22,
   "id": "7e25a6f3",
   "metadata": {},
   "outputs": [
    {
     "name": "stdout",
     "output_type": "stream",
     "text": [
      "Hệ số tương quan giữa hai biến HH Inc và Per Cap Inc:  0.08182466566644843\n"
     ]
    }
   ],
   "source": [
    "x = df['HH Inc']\n",
    "y = df['Per Cap Inc']\n",
    "\n",
    "def Cor_HHI_PCI(x,y):\n",
    "    n = len(x)\n",
    "    prod = []\n",
    "    for xi,yi in zip(x,y):\n",
    "        prod.append(xi*yi)\n",
    "    sum_prod_x_y = sum(prod)\n",
    "    sum_x = sum(x)\n",
    "    sum_y = sum(y)\n",
    "    squared_sum_x = sum_x**2\n",
    "    squared_sum_y = sum_y**2\n",
    "    \n",
    "    x_square = []\n",
    "    for xi in x:\n",
    "        x_square.append(xi**2)\n",
    "    x_square_sum = sum(x_square)\n",
    "    \n",
    "    y_square = []\n",
    "    for yi in x:\n",
    "        y_square.append(yi**2)\n",
    "    y_square_sum = sum(y_square)\n",
    "    \n",
    "    numerator = n*sum_prod_x_y - sum_x*sum_y\n",
    "    denominator_term1 = n*x_square_sum - squared_sum_x\n",
    "    denominator_term2 = n*y_square_sum - squared_sum_y\n",
    "    denominator = (denominator_term1*denominator_term2)**0.5\n",
    "    correlation = numerator/denominator\n",
    "    \n",
    "    return correlation\n",
    "\n",
    "print('Hệ số tương quan giữa hai biến HH Inc và Per Cap Inc: ',Cor_HHI_PCI(x,y))"
   ]
  },
  {
   "cell_type": "code",
   "execution_count": 23,
   "id": "8ef04a30",
   "metadata": {},
   "outputs": [
    {
     "name": "stdout",
     "output_type": "stream",
     "text": [
      "Hệ số tương quan giữa hai biến Per Cap Inc và Pct Owner Occ :  -0.00010361692625605483\n"
     ]
    }
   ],
   "source": [
    "x = df['Per Cap Inc']\n",
    "y = df['Pct Owner Occ']\n",
    "\n",
    "def Cor_PCI_POO(x,y):\n",
    "    n = len(x)\n",
    "    prod = []\n",
    "    for xi,yi in zip(x,y):\n",
    "        prod.append(xi*yi)\n",
    "    sum_prod_x_y = sum(prod)\n",
    "    sum_x = sum(x)\n",
    "    sum_y = sum(y)\n",
    "    squared_sum_x = sum_x**2\n",
    "    squared_sum_y = sum_y**2\n",
    "    \n",
    "    x_square = []\n",
    "    for xi in x:\n",
    "        x_square.append(xi**2)\n",
    "    x_square_sum = sum(x_square)\n",
    "    \n",
    "    y_square = []\n",
    "    for yi in x:\n",
    "        y_square.append(yi**2)\n",
    "    y_square_sum = sum(y_square)\n",
    "    \n",
    "    numerator = n*sum_prod_x_y - sum_x*sum_y\n",
    "    denominator_term1 = n*x_square_sum - squared_sum_x\n",
    "    denominator_term2 = n*y_square_sum - squared_sum_y\n",
    "    denominator = (denominator_term1*denominator_term2)**0.5\n",
    "    correlation = numerator/denominator\n",
    "    \n",
    "    return correlation\n",
    "\n",
    "print('Hệ số tương quan giữa hai biến Per Cap Inc và Pct Owner Occ : ',Cor_PCI_POO(x,y))"
   ]
  },
  {
   "cell_type": "code",
   "execution_count": 24,
   "id": "deea4096",
   "metadata": {},
   "outputs": [
    {
     "name": "stdout",
     "output_type": "stream",
     "text": [
      "Hệ số tương quan giữa hai biến Pct Owner Occ và Home Value:  (-1.9343739891212163e-17+0.3159072461493392j)\n"
     ]
    }
   ],
   "source": [
    "x = df['Pct Owner Occ']\n",
    "y = df['Home Value']\n",
    "\n",
    "def Cor_POO_HV(x,y):\n",
    "    n = len(x)\n",
    "    prod = []\n",
    "    for xi,yi in zip(x,y):\n",
    "        prod.append(xi*yi)\n",
    "    sum_prod_x_y = sum(prod)\n",
    "    sum_x = sum(x)\n",
    "    sum_y = sum(y)\n",
    "    squared_sum_x = sum_x**2\n",
    "    squared_sum_y = sum_y**2\n",
    "    \n",
    "    x_square = []\n",
    "    for xi in x:\n",
    "        x_square.append(xi**2)\n",
    "    x_square_sum = sum(x_square)\n",
    "    \n",
    "    y_square = []\n",
    "    for yi in x:\n",
    "        y_square.append(yi**2)\n",
    "    y_square_sum = sum(y_square)\n",
    "    \n",
    "    numerator = n*sum_prod_x_y - sum_x*sum_y\n",
    "    denominator_term1 = n*x_square_sum - squared_sum_x\n",
    "    denominator_term2 = n*y_square_sum - squared_sum_y\n",
    "    denominator = (denominator_term1*denominator_term2)**0.5\n",
    "    correlation = numerator/denominator\n",
    "    \n",
    "    return correlation\n",
    "\n",
    "print('Hệ số tương quan giữa hai biến Pct Owner Occ và Home Value: ',Cor_POO_HV(x,y))"
   ]
  },
  {
   "cell_type": "code",
   "execution_count": 25,
   "id": "46c77f7a",
   "metadata": {},
   "outputs": [
    {
     "name": "stdout",
     "output_type": "stream",
     "text": [
      "Hệ số tương quan giữa hai biến Home Value và Per Cap Inc:  0.014616257493866018\n"
     ]
    }
   ],
   "source": [
    "x = df['Home Value']\n",
    "y = df['Per Cap Inc']\n",
    "\n",
    "def Cor_HV_PCI(x,y):\n",
    "    n = len(x)\n",
    "    prod = []\n",
    "    for xi,yi in zip(x,y):\n",
    "        prod.append(xi*yi)\n",
    "    sum_prod_x_y = sum(prod)\n",
    "    sum_x = sum(x)\n",
    "    sum_y = sum(y)\n",
    "    squared_sum_x = sum_x**2\n",
    "    squared_sum_y = sum_y**2\n",
    "    \n",
    "    x_square = []\n",
    "    for xi in x:\n",
    "        x_square.append(xi**2)\n",
    "    x_square_sum = sum(x_square)\n",
    "    \n",
    "    y_square = []\n",
    "    for yi in x:\n",
    "        y_square.append(yi**2)\n",
    "    y_square_sum = sum(y_square)\n",
    "    \n",
    "    numerator = n*sum_prod_x_y - sum_x*sum_y\n",
    "    denominator_term1 = n*x_square_sum - squared_sum_x\n",
    "    denominator_term2 = n*y_square_sum - squared_sum_y\n",
    "    denominator = (denominator_term1*denominator_term2)**0.5\n",
    "    correlation = numerator/denominator\n",
    "    \n",
    "    return correlation\n",
    "\n",
    "print('Hệ số tương quan giữa hai biến Home Value và Per Cap Inc: ',Cor_HV_PCI(x,y))"
   ]
  },
  {
   "cell_type": "code",
   "execution_count": 27,
   "id": "734620b2",
   "metadata": {},
   "outputs": [
    {
     "name": "stdout",
     "output_type": "stream",
     "text": [
      "Hệ số tương quan giữa hai biến HH Inc và Pct Owner Occ:  -3.446220846446592e-05\n"
     ]
    }
   ],
   "source": [
    "x = df['HH Inc']\n",
    "y = df['Pct Owner Occ']\n",
    "\n",
    "def Cor_HHI_POO(x,y):\n",
    "    n = len(x)\n",
    "    prod = []\n",
    "    for xi,yi in zip(x,y):\n",
    "        prod.append(xi*yi)\n",
    "    sum_prod_x_y = sum(prod)\n",
    "    sum_x = sum(x)\n",
    "    sum_y = sum(y)\n",
    "    squared_sum_x = sum_x**2\n",
    "    squared_sum_y = sum_y**2\n",
    "    \n",
    "    x_square = []\n",
    "    for xi in x:\n",
    "        x_square.append(xi**2)\n",
    "    x_square_sum = sum(x_square)\n",
    "    \n",
    "    y_square = []\n",
    "    for yi in x:\n",
    "        y_square.append(yi**2)\n",
    "    y_square_sum = sum(y_square)\n",
    "    \n",
    "    numerator = n*sum_prod_x_y - sum_x*sum_y\n",
    "    denominator_term1 = n*x_square_sum - squared_sum_x\n",
    "    denominator_term2 = n*y_square_sum - squared_sum_y\n",
    "    denominator = (denominator_term1*denominator_term2)**0.5\n",
    "    correlation = numerator/denominator\n",
    "    \n",
    "    return correlation\n",
    "\n",
    "print('Hệ số tương quan giữa hai biến HH Inc và Pct Owner Occ: ',Cor_HHI_POO(x,y))"
   ]
  },
  {
   "cell_type": "markdown",
   "id": "1f179b96",
   "metadata": {},
   "source": [
    "# Tạo bảng Hệ số tương quan giữa các biến"
   ]
  },
  {
   "cell_type": "code",
   "execution_count": 28,
   "id": "6026a750",
   "metadata": {},
   "outputs": [
    {
     "data": {
      "text/html": [
       "<div>\n",
       "<style scoped>\n",
       "    .dataframe tbody tr th:only-of-type {\n",
       "        vertical-align: middle;\n",
       "    }\n",
       "\n",
       "    .dataframe tbody tr th {\n",
       "        vertical-align: top;\n",
       "    }\n",
       "\n",
       "    .dataframe thead th {\n",
       "        text-align: right;\n",
       "    }\n",
       "</style>\n",
       "<table border=\"1\" class=\"dataframe\">\n",
       "  <thead>\n",
       "    <tr style=\"text-align: right;\">\n",
       "      <th></th>\n",
       "      <th>Variable</th>\n",
       "      <th>Correlation</th>\n",
       "    </tr>\n",
       "  </thead>\n",
       "  <tbody>\n",
       "    <tr>\n",
       "      <th>0</th>\n",
       "      <td>HomeValue_HHInc</td>\n",
       "      <td>0.030178+0.000000j</td>\n",
       "    </tr>\n",
       "    <tr>\n",
       "      <th>1</th>\n",
       "      <td>HHInc_PerCapInc</td>\n",
       "      <td>0.081825+0.000000j</td>\n",
       "    </tr>\n",
       "    <tr>\n",
       "      <th>2</th>\n",
       "      <td>PerCapInc_PctOwnerOcc</td>\n",
       "      <td>-0.000104+0.000000j</td>\n",
       "    </tr>\n",
       "    <tr>\n",
       "      <th>3</th>\n",
       "      <td>PctOwnerOcc_HomeValue</td>\n",
       "      <td>-0.000000+0.315907j</td>\n",
       "    </tr>\n",
       "    <tr>\n",
       "      <th>4</th>\n",
       "      <td>HomeValue_PerCapInc</td>\n",
       "      <td>0.014616+0.000000j</td>\n",
       "    </tr>\n",
       "    <tr>\n",
       "      <th>5</th>\n",
       "      <td>HHInc_PctOwnerOcc</td>\n",
       "      <td>-0.000034+0.000000j</td>\n",
       "    </tr>\n",
       "  </tbody>\n",
       "</table>\n",
       "</div>"
      ],
      "text/plain": [
       "                Variable         Correlation\n",
       "0        HomeValue_HHInc  0.030178+0.000000j\n",
       "1        HHInc_PerCapInc  0.081825+0.000000j\n",
       "2  PerCapInc_PctOwnerOcc -0.000104+0.000000j\n",
       "3  PctOwnerOcc_HomeValue -0.000000+0.315907j\n",
       "4    HomeValue_PerCapInc  0.014616+0.000000j\n",
       "5      HHInc_PctOwnerOcc -0.000034+0.000000j"
      ]
     },
     "metadata": {},
     "output_type": "display_data"
    }
   ],
   "source": [
    "dict_columns = {\n",
    "    'Variable':['HomeValue_HHInc', 'HHInc_PerCapInc', 'PerCapInc_PctOwnerOcc', 'PctOwnerOcc_HomeValue', 'HomeValue_PerCapInc', 'HHInc_PctOwnerOcc'],\n",
    "    'Correlation':[Cor_HV_HHI(df['Home Value'],df['HH Inc']), Cor_HHI_PCI(df['HH Inc'],df['Per Cap Inc']), Cor_PCI_POO(df['Per Cap Inc'],df['Pct Owner Occ']), Cor_POO_HV(df['Pct Owner Occ'],df['Home Value']), Cor_HV_PCI(df['Home Value'],df['Per Cap Inc']), Cor_HHI_POO(df['HH Inc'],df['Pct Owner Occ'])]\n",
    "}\n",
    "\n",
    "df2 = pd.DataFrame(dict_columns)\n",
    "display(df2)"
   ]
  },
  {
   "cell_type": "markdown",
   "id": "6e344140",
   "metadata": {},
   "source": [
    "# Trong các biến HH Inc , Per Cap Inc và Pct Owner Occ thì biến nào có mối quan hệ mạnh nhất với Home Value?\n",
    "Hệ số tương quan có giá trị dương cho thấy mối quan hệ đồng biến hoặc tương quan dương (đồng biến tuyệt đối khi giá trị bằng 1)\n",
    "\n",
    "Vậy biến HH Inc có mối quan hệ mạnh nhất với biến Home Value"
   ]
  }
 ],
 "metadata": {
  "kernelspec": {
   "display_name": "Python 3 (ipykernel)",
   "language": "python",
   "name": "python3"
  },
  "language_info": {
   "codemirror_mode": {
    "name": "ipython",
    "version": 3
   },
   "file_extension": ".py",
   "mimetype": "text/x-python",
   "name": "python",
   "nbconvert_exporter": "python",
   "pygments_lexer": "ipython3",
   "version": "3.10.4"
  }
 },
 "nbformat": 4,
 "nbformat_minor": 5
}
